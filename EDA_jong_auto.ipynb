{
 "cells": [
  {
   "cell_type": "code",
   "execution_count": null,
   "id": "93ea8bd8-fa15-40da-b3ca-7b81e814ba24",
   "metadata": {},
   "outputs": [],
   "source": [
    "#stdlib\n",
    "import os\n",
    "import sys\n",
    "import math\n",
    "import datetime as dt\n",
    "import functools\n",
    "import itertools\n",
    "import collections\n",
    "import subprocess\n",
    "\n",
    "# 3rd party\n",
    "import pandas as pd\n",
    "import numpy as np\n",
    "import seaborn as sns\n",
    "import matplotlib.pyplot as plt\n",
    "\n",
    "# Config\n",
    "pd.set_option('display.max_columns', None)"
   ]
  },
  {
   "cell_type": "markdown",
   "id": "ea7d1b69-f0c9-4b8f-b7ab-dae75b26bd21",
   "metadata": {},
   "source": [
    "## Load your data below:\n",
    "Data must have 'sequence' column of uppercase letters and 'label' column (int). \n",
    "`name` is a variable corresponding to what your label does."
   ]
  },
  {
   "cell_type": "code",
   "execution_count": null,
   "id": "43a98ca6-13b0-4201-8026-2072b78bd54d",
   "metadata": {},
   "outputs": [],
   "source": [
    "df = pd.read_csv('data/dna_binding/train.csv') # Replace me with the data you want\n",
    "name = 'DNA Binding Protein'"
   ]
  },
  {
   "cell_type": "code",
   "execution_count": null,
   "id": "69099d7a-49e5-4286-89a1-98a1f539bc95",
   "metadata": {},
   "outputs": [],
   "source": [
    "df.describe()"
   ]
  },
  {
   "cell_type": "markdown",
   "id": "fb418df8-9d7b-4523-9a88-3fe5d2c78692",
   "metadata": {},
   "source": [
    "These are real CSVs, not fasta, unlike most protein data."
   ]
  },
  {
   "cell_type": "code",
   "execution_count": null,
   "id": "d07bb945-e49b-47e2-b2f3-3518b39f2325",
   "metadata": {},
   "outputs": [],
   "source": [
    "df['label'].value_counts()"
   ]
  },
  {
   "cell_type": "markdown",
   "id": "c9f380ac-ff1f-4e2b-8400-ef7aebeeb2f3",
   "metadata": {},
   "source": [
    "### Count Unique Characters per protein"
   ]
  },
  {
   "cell_type": "code",
   "execution_count": null,
   "id": "1231b2d7-6d96-4f73-a670-54cd96ffc432",
   "metadata": {},
   "outputs": [],
   "source": [
    "df['unique_characters'] = df['sequence'].apply(lambda x: len(np.unique([*x])))\n",
    "sns.kdeplot(data=df, x='unique_characters', hue='label', common_norm=True, shade=True)"
   ]
  },
  {
   "cell_type": "markdown",
   "id": "5ad9dbf8-d1c9-47fe-97d1-5de398cbe560",
   "metadata": {},
   "source": [
    "## Count length of sequence per protein\n",
    "We also add log sequence length in case the distribution is lognormal."
   ]
  },
  {
   "cell_type": "code",
   "execution_count": null,
   "id": "9ae7a3af-0483-4507-b757-7c27c0d417e1",
   "metadata": {},
   "outputs": [],
   "source": [
    "_fig, axes = plt.subplots(1, 2, figsize=(12, 4))\n",
    "df['sequence_len'] = df['sequence'].str.len()\n",
    "df['log_sequence_len'] = np.log(1 + df['sequence_len'])\n",
    "sns.kdeplot(data=df, x='sequence_len', hue='label', shade=True, ax=axes[0]).set_title('Label by Sequence Length')\n",
    "sns.kdeplot(data=df, x='log_sequence_len', hue='label', shade=True, ax=axes[1]).set_title('Label by Log Sequence Length')\n",
    "pass"
   ]
  },
  {
   "cell_type": "markdown",
   "id": "6a9339ea-f4fe-4b62-8bc4-a19c11c8244b",
   "metadata": {},
   "source": [
    "## Amino acid count\n",
    "Again, this is may be a lognormal distribution so we show the logs as well."
   ]
  },
  {
   "cell_type": "code",
   "execution_count": null,
   "id": "8a2067c2-6081-4b2d-ac33-ec7e6c8de684",
   "metadata": {},
   "outputs": [],
   "source": [
    "all_chars = sorted(set(df[['sequence']].applymap(list).sequence.apply(pd.Series).stack().unique()))\n",
    "f'There are {len(all_chars)} unique amino acid characters in data.'"
   ]
  },
  {
   "cell_type": "code",
   "execution_count": null,
   "id": "0bf6dcb4-a911-4fd9-a4c9-666d9153cfc5",
   "metadata": {},
   "outputs": [],
   "source": [
    "for char in sorted(all_chars):\n",
    "    df[f'char_count_{char}'] = df['sequence'].str.count(char)\n",
    "    df[f'log_char_count_{char}'] = np.log(1 + df[f'char_count_{char}'])\n",
    "fig, axs = plt.subplots(math.ceil(len(all_chars) / 5), 5, figsize=(20, max(20, len(all_chars))))\n",
    "axs = axs.ravel()  # To deal with rows of plots\n",
    "for i, char in enumerate(all_chars):\n",
    "    sns.kdeplot(data=df, x=f'char_count_{char}', hue='label', warn_singular=False, shade=True, ax=axs[i]).set_title(f'{char} Count')\n",
    "plt.show()\n",
    "fig, axs = plt.subplots(math.ceil(len(all_chars) / 5), 5, figsize=(20, max(20, len(all_chars))))\n",
    "axs = axs.ravel()  # To deal with rows of plots\n",
    "for i, char in enumerate(all_chars):\n",
    "    sns.kdeplot(data=df, x=f'log_char_count_{char}', hue='label', warn_singular=False, shade=True, ax=axs[i]).set_title(f'{char} Log Count')\n",
    "pass"
   ]
  },
  {
   "cell_type": "code",
   "execution_count": null,
   "id": "d7380ebe-33b2-43b9-ae29-370b2399c6ab",
   "metadata": {},
   "outputs": [],
   "source": [
    "# Percent of ACP by sequence length\n",
    "fig, axs = plt.subplots(math.ceil(len(all_chars) / 5), 5, figsize=(20, max(20, len(all_chars))))\n",
    "axs = axs.ravel()  # To deal with rows of plots\n",
    "for i, char in enumerate(sorted(all_chars)):\n",
    "    df.groupby(f'char_count_{char}')['label'].mean().plot.bar(ax=axs[i], title=f'Percent of {name} by {char} count', xlabel='')"
   ]
  },
  {
   "cell_type": "markdown",
   "id": "4692f830-fa97-4236-a2ca-d6b36deb74f5",
   "metadata": {},
   "source": [
    "## Show the top and bottom most correlated columns"
   ]
  },
  {
   "cell_type": "code",
   "execution_count": null,
   "id": "8a3407af-2895-4aa9-a90d-a5b74d0c4868",
   "metadata": {},
   "outputs": [],
   "source": [
    "fig, ax = plt.subplots(1, 2, figsize=(20, 2))\n",
    "max_columns = 20\n",
    "corr_df = df.corr().loc[['label'], :]\n",
    "top_corr_df = corr_df[list(reversed(corr_df.columns[corr_df.loc[corr_df.last_valid_index()].argsort()]))[1:max_columns+1]]\n",
    "sns.heatmap(top_corr_df, annot=True, ax=ax[0]).set_title(f'Top {max_columns} correlated to label')\n",
    "bot_corr_df = corr_df[list(corr_df.columns[corr_df.loc[corr_df.last_valid_index()].argsort()])[:max_columns]]\n",
    "sns.heatmap(bot_corr_df, annot=True, ax=ax[1]).set_title(f'Bottom {max_columns} correlated to label')\n",
    "pass"
   ]
  },
  {
   "cell_type": "code",
   "execution_count": null,
   "id": "643cd3eb-e1ed-4110-8529-d251ecc630aa",
   "metadata": {},
   "outputs": [],
   "source": []
  }
 ],
 "metadata": {
  "kernelspec": {
   "display_name": "Python 3 (ipykernel)",
   "language": "python",
   "name": "python3"
  },
  "language_info": {
   "codemirror_mode": {
    "name": "ipython",
    "version": 3
   },
   "file_extension": ".py",
   "mimetype": "text/x-python",
   "name": "python",
   "nbconvert_exporter": "python",
   "pygments_lexer": "ipython3",
   "version": "3.9.7"
  }
 },
 "nbformat": 4,
 "nbformat_minor": 5
}
